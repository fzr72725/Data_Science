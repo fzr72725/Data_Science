{
 "cells": [
  {
   "cell_type": "code",
   "execution_count": 64,
   "metadata": {
    "collapsed": true
   },
   "outputs": [],
   "source": [
    "import numpy as np\n",
    "import matplotlib.pyplot as plt\n",
    "import pandas as pd\n",
    "import seaborn as sns\n",
    "%matplotlib inline"
   ]
  },
  {
   "cell_type": "code",
   "execution_count": 46,
   "metadata": {
    "collapsed": true
   },
   "outputs": [],
   "source": [
    "x = np.random.rand(10)\n",
    "y = np.random.randint(10,size=10)"
   ]
  },
  {
   "cell_type": "code",
   "execution_count": 47,
   "metadata": {
    "collapsed": false
   },
   "outputs": [
    {
     "data": {
      "text/plain": [
       "array([ 0.90623704,  0.1710261 ,  0.40859054,  0.05321542,  0.53804103,\n",
       "        0.36138611,  0.21366572,  0.3036704 ,  0.94874309,  0.67664074])"
      ]
     },
     "execution_count": 47,
     "metadata": {},
     "output_type": "execute_result"
    }
   ],
   "source": [
    "x"
   ]
  },
  {
   "cell_type": "code",
   "execution_count": 48,
   "metadata": {
    "collapsed": false
   },
   "outputs": [
    {
     "data": {
      "text/plain": [
       "array([7, 8, 4, 7, 4, 3, 3, 2, 4, 2])"
      ]
     },
     "execution_count": 48,
     "metadata": {},
     "output_type": "execute_result"
    }
   ],
   "source": [
    "y"
   ]
  },
  {
   "cell_type": "code",
   "execution_count": 58,
   "metadata": {
    "collapsed": true
   },
   "outputs": [],
   "source": [
    "collectn_1 = np.random.normal(100, 10, 200)"
   ]
  },
  {
   "cell_type": "code",
   "execution_count": 59,
   "metadata": {
    "collapsed": false
   },
   "outputs": [
    {
     "data": {
      "text/plain": [
       "array([  99.60289567,  113.46315559,   93.29683519,  105.92132301,\n",
       "         97.74931249,  104.80353777,  103.34374466,   90.34204708,\n",
       "         92.80362984,   99.60907235,   98.93573718,   97.74816561,\n",
       "        114.51823301,   88.43342303,  100.98532061,  103.40838627,\n",
       "        105.53552218,   91.77645571,  110.18845333,   95.13095141,\n",
       "         88.5516072 ,  115.90124626,   90.53933905,   98.25333789,\n",
       "         98.5243733 ,  107.50792401,  106.00472916,  103.16381026,\n",
       "         97.07316081,   99.97658373,   98.14293778,  102.97007267,\n",
       "         99.35849435,  110.36573257,  115.00359536,  103.3941034 ,\n",
       "         87.17730142,   87.27694756,  112.94937383,   85.24161583,\n",
       "        101.15100934,  100.66801067,   94.01103332,  108.26566752,\n",
       "         92.3469036 ,  101.74690743,   87.54265828,  108.97064857,\n",
       "        103.71280589,   93.34874262,   89.94458598,   96.93869065,\n",
       "        110.32265602,  100.0699083 ,  114.06186653,   90.04274623,\n",
       "        104.59693095,   93.81356817,   90.32523548,  111.90445801,\n",
       "        122.09724225,  112.74904494,  106.2538871 ,   93.49868735,\n",
       "        121.09123429,   90.33171346,  109.98567908,   93.54919977,\n",
       "         93.42905842,  120.98435702,  106.1378764 ,   87.44356406,\n",
       "         97.25837061,   97.39897561,   98.23236401,  110.95681219,\n",
       "         93.55805716,   94.2377894 ,  106.87997177,   98.80693143,\n",
       "        105.64591989,  102.98654075,   95.76928213,  101.80869666,\n",
       "         99.72713384,  112.69242207,   91.5488648 ,   86.26333301,\n",
       "         93.7900077 ,  115.7149053 ,   94.17700047,   81.04229245,\n",
       "         91.92863317,  116.33302473,  107.37341814,   93.88384279,\n",
       "         89.3197942 ,   94.65583773,   87.19428457,   83.04117788,\n",
       "        113.4281267 ,   82.10517578,   97.59930307,   89.47524653,\n",
       "         93.45341698,   89.56614254,  102.18182479,   99.15841651,\n",
       "         94.14944551,   98.38535653,   96.18480264,  100.16578586,\n",
       "         89.0225437 ,   97.46935172,   83.4650027 ,   90.13124552,\n",
       "        105.33204191,   97.45101193,  131.20058342,  114.83084334,\n",
       "        103.85050919,   98.85933111,   84.26728813,  124.35336672,\n",
       "         86.4660792 ,   85.49960384,  117.44755025,   81.66671007,\n",
       "        115.55623298,  103.84159641,  102.7438507 ,  106.99573417,\n",
       "        114.37140054,   90.22397577,   90.59436645,   75.59823907,\n",
       "        107.37483127,  106.67054095,  101.71128042,  101.36632767,\n",
       "         88.96179948,  109.40023031,   94.67128251,   91.7378619 ,\n",
       "        120.43534231,  102.44838273,   92.61560461,  104.35200023,\n",
       "        109.55898795,   80.76082504,  101.7432734 ,  107.49453655,\n",
       "         85.30027089,  100.73569768,  104.41040341,   87.58713981,\n",
       "        118.19514098,   75.40505724,  113.60592962,   86.87536302,\n",
       "        104.52606378,  109.13920359,   90.80721816,   93.70987801,\n",
       "         90.60257772,  108.42883056,  116.31883678,   93.6506092 ,\n",
       "        108.14322475,   95.43321363,   96.05748566,   92.57269135,\n",
       "         88.86812143,  108.04777054,  115.2266036 ,  117.01175663,\n",
       "        102.71427786,  108.51878061,  113.72685487,   83.79765839,\n",
       "         88.73498538,   97.45535701,  107.24563824,   83.18613784,\n",
       "        103.68988453,  119.86907861,  101.21241398,   78.60764681,\n",
       "        107.78201885,   90.97080545,  104.44550256,   99.16072539,\n",
       "         90.15029622,  110.81769925,  119.24163998,   89.9862172 ,\n",
       "         85.22887415,   98.66920445,   90.85369571,   97.14942757])"
      ]
     },
     "execution_count": 59,
     "metadata": {},
     "output_type": "execute_result"
    }
   ],
   "source": [
    "collectn_1"
   ]
  },
  {
   "cell_type": "code",
   "execution_count": 60,
   "metadata": {
    "collapsed": false
   },
   "outputs": [
    {
     "data": {
      "text/plain": [
       "{'boxes': [<matplotlib.lines.Line2D at 0x10d0fc1d0>],\n",
       " 'caps': [<matplotlib.lines.Line2D at 0x10d0f0510>,\n",
       "  <matplotlib.lines.Line2D at 0x10d0f0b50>],\n",
       " 'fliers': [<matplotlib.lines.Line2D at 0x10d0fce50>,\n",
       "  <matplotlib.lines.Line2D at 0x10d107490>],\n",
       " 'medians': [<matplotlib.lines.Line2D at 0x10d0fc810>],\n",
       " 'whiskers': [<matplotlib.lines.Line2D at 0x10d0deb90>,\n",
       "  <matplotlib.lines.Line2D at 0x10d0dee10>]}"
      ]
     },
     "execution_count": 60,
     "metadata": {},
     "output_type": "execute_result"
    },
    {
     "data": {
      "image/png": "[encoded data removed]",
      "text/plain": [
       "<matplotlib.figure.Figure at 0x10c810710>"
      ]
     },
     "metadata": {},
     "output_type": "display_data"
    }
   ],
   "source": [
    "plt.boxplot(collectn_1)"
   ]
  },
  {
   "cell_type": "code",
   "execution_count": 19,
   "metadata": {
    "collapsed": true
   },
   "outputs": [],
   "source": [
    "a = np.random.randint(10,size=24).reshape(6,4)"
   ]
  },
  {
   "cell_type": "code",
   "execution_count": 20,
   "metadata": {
    "collapsed": true
   },
   "outputs": [],
   "source": [
    "full_data = pd.DataFrame(a,columns=['A','B','C','D'])"
   ]
  },
  {
   "cell_type": "code",
   "execution_count": 62,
   "metadata": {
    "collapsed": false
   },
   "outputs": [
    {
     "data": {
      "text/html": [
       "<div>\n",
       "<table border=\"1\" class=\"dataframe\">\n",
       "  <thead>\n",
       "    <tr style=\"text-align: right;\">\n",
       "      <th></th>\n",
       "      <th>A</th>\n",
       "      <th>B</th>\n",
       "      <th>C</th>\n",
       "      <th>D</th>\n",
       "      <th>E</th>\n",
       "    </tr>\n",
       "  </thead>\n",
       "  <tbody>\n",
       "    <tr>\n",
       "      <th>0</th>\n",
       "      <td>9</td>\n",
       "      <td>5</td>\n",
       "      <td>1</td>\n",
       "      <td>5</td>\n",
       "      <td>0</td>\n",
       "    </tr>\n",
       "    <tr>\n",
       "      <th>1</th>\n",
       "      <td>7</td>\n",
       "      <td>5</td>\n",
       "      <td>7</td>\n",
       "      <td>2</td>\n",
       "      <td>0</td>\n",
       "    </tr>\n",
       "    <tr>\n",
       "      <th>2</th>\n",
       "      <td>9</td>\n",
       "      <td>6</td>\n",
       "      <td>7</td>\n",
       "      <td>1</td>\n",
       "      <td>1</td>\n",
       "    </tr>\n",
       "    <tr>\n",
       "      <th>3</th>\n",
       "      <td>4</td>\n",
       "      <td>1</td>\n",
       "      <td>5</td>\n",
       "      <td>3</td>\n",
       "      <td>0</td>\n",
       "    </tr>\n",
       "    <tr>\n",
       "      <th>4</th>\n",
       "      <td>1</td>\n",
       "      <td>9</td>\n",
       "      <td>2</td>\n",
       "      <td>9</td>\n",
       "      <td>1</td>\n",
       "    </tr>\n",
       "    <tr>\n",
       "      <th>5</th>\n",
       "      <td>1</td>\n",
       "      <td>2</td>\n",
       "      <td>5</td>\n",
       "      <td>8</td>\n",
       "      <td>0</td>\n",
       "    </tr>\n",
       "  </tbody>\n",
       "</table>\n",
       "</div>"
      ],
      "text/plain": [
       "   A  B  C  D  E\n",
       "0  9  5  1  5  0\n",
       "1  7  5  7  2  0\n",
       "2  9  6  7  1  1\n",
       "3  4  1  5  3  0\n",
       "4  1  9  2  9  1\n",
       "5  1  2  5  8  0"
      ]
     },
     "execution_count": 62,
     "metadata": {},
     "output_type": "execute_result"
    }
   ],
   "source": [
    "full_data"
   ]
  },
  {
   "cell_type": "code",
   "execution_count": 61,
   "metadata": {
    "collapsed": true
   },
   "outputs": [],
   "source": [
    "full_data['E'] = [0,0,1,0,1,0]"
   ]
  },
  {
   "cell_type": "code",
   "execution_count": 26,
   "metadata": {
    "collapsed": true
   },
   "outputs": [],
   "source": [
    "labels=['C','D']"
   ]
  },
  {
   "cell_type": "code",
   "execution_count": 41,
   "metadata": {
    "collapsed": false
   },
   "outputs": [],
   "source": [
    "def feature_explore(df,feature,func,*args):\n",
    "    fig = plt.figure()\n",
    "    for i in range(0,len(labels)):\n",
    "        ax = fig.add_subplot(len(labels),1,i+1)\n",
    "        func(df[feature],df[labels[i]])"
   ]
  },
  {
   "cell_type": "code",
   "execution_count": 65,
   "metadata": {
    "collapsed": false
   },
   "outputs": [
    {
     "data": {
      "image/png": "[encoded data removed]",
      "text/plain": [
       "<matplotlib.figure.Figure at 0x10d0bcf50>"
      ]
     },
     "metadata": {},
     "output_type": "display_data"
    }
   ],
   "source": [
    "feature_explore(full_data,'E',sns.boxplot)"
   ]
  },
  {
   "cell_type": "code",
   "execution_count": null,
   "metadata": {
    "collapsed": true
   },
   "outputs": [],
   "source": []
  }
 ],
 "metadata": {
  "kernelspec": {
   "display_name": "Python 2",
   "language": "python",
   "name": "python2"
  },
  "language_info": {
   "codemirror_mode": {
    "name": "ipython",
    "version": 2
   },
   "file_extension": ".py",
   "mimetype": "text/x-python",
   "name": "python",
   "nbconvert_exporter": "python",
   "pygments_lexer": "ipython2",
   "version": "2.7.10"
  }
 },
 "nbformat": 4,
 "nbformat_minor": 0
}
