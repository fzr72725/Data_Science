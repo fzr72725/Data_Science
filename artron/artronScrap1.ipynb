{
 "cells": [
  {
   "cell_type": "markdown",
   "metadata": {},
   "source": [
    "# Scraps all auctions from a specific auction house#"
   ]
  },
  {
   "cell_type": "code",
   "execution_count": 2,
   "metadata": {
    "collapsed": true
   },
   "outputs": [],
   "source": [
    "from BeautifulSoup import BeautifulSoup\n",
    "import urllib,string,csv,sys,os\n",
    "import pandas as pd"
   ]
  },
  {
   "cell_type": "code",
   "execution_count": 15,
   "metadata": {
    "collapsed": true
   },
   "outputs": [],
   "source": [
    "# Set the fixed parts of the URL\n",
    "fx_url_s = 'http://en.artron.net/auction/paimai-result.php?page='\n",
    "fx_url_e = '&jgid=JG1059'"
   ]
  },
  {
   "cell_type": "code",
   "execution_count": 129,
   "metadata": {
    "collapsed": false
   },
   "outputs": [
    {
     "name": "stdout",
     "output_type": "stream",
     "text": [
      "27\n"
     ]
    },
    {
     "ename": "IndexError",
     "evalue": "list index out of range",
     "output_type": "error",
     "traceback": [
      "\u001b[0;31m---------------------------------------------------------------------------\u001b[0m",
      "\u001b[0;31mIndexError\u001b[0m                                Traceback (most recent call last)",
      "\u001b[0;32m<ipython-input-129-640b4c00496a>\u001b[0m in \u001b[0;36m<module>\u001b[0;34m()\u001b[0m\n\u001b[1;32m     11\u001b[0m \u001b[0;32mprint\u001b[0m \u001b[0mlen\u001b[0m\u001b[0;34m(\u001b[0m\u001b[0mtables\u001b[0m\u001b[0;34m[\u001b[0m\u001b[0;36m2\u001b[0m\u001b[0;34m]\u001b[0m\u001b[0;34m.\u001b[0m\u001b[0mfindAll\u001b[0m\u001b[0;34m(\u001b[0m\u001b[0;34m'td'\u001b[0m\u001b[0;34m)\u001b[0m\u001b[0;34m)\u001b[0m\u001b[0;34m\u001b[0m\u001b[0m\n\u001b[1;32m     12\u001b[0m \u001b[0;32mfor\u001b[0m \u001b[0mi\u001b[0m \u001b[0;32min\u001b[0m \u001b[0mrange\u001b[0m\u001b[0;34m(\u001b[0m\u001b[0;36m1\u001b[0m\u001b[0;34m,\u001b[0m\u001b[0;36m100\u001b[0m\u001b[0;34m)\u001b[0m\u001b[0;34m:\u001b[0m\u001b[0;34m\u001b[0m\u001b[0m\n\u001b[0;32m---> 13\u001b[0;31m     \u001b[0;32mif\u001b[0m \u001b[0mlen\u001b[0m\u001b[0;34m(\u001b[0m\u001b[0mtables\u001b[0m\u001b[0;34m[\u001b[0m\u001b[0;36m2\u001b[0m\u001b[0;34m]\u001b[0m\u001b[0;34m.\u001b[0m\u001b[0mfindAll\u001b[0m\u001b[0;34m(\u001b[0m\u001b[0;34m'td'\u001b[0m\u001b[0;34m)\u001b[0m\u001b[0;34m[\u001b[0m\u001b[0mi\u001b[0m\u001b[0;34m]\u001b[0m\u001b[0;34m.\u001b[0m\u001b[0mfindAll\u001b[0m\u001b[0;34m(\u001b[0m\u001b[0;34m'a'\u001b[0m\u001b[0;34m,\u001b[0m\u001b[0mhref\u001b[0m\u001b[0;34m=\u001b[0m\u001b[0mTrue\u001b[0m\u001b[0;34m)\u001b[0m\u001b[0;34m)\u001b[0m\u001b[0;34m>\u001b[0m\u001b[0;36m0\u001b[0m\u001b[0;34m:\u001b[0m\u001b[0;34m\u001b[0m\u001b[0m\n\u001b[0m\u001b[1;32m     14\u001b[0m         \u001b[0mcount\u001b[0m\u001b[0;34m.\u001b[0m\u001b[0mappend\u001b[0m\u001b[0;34m(\u001b[0m\u001b[0mi\u001b[0m\u001b[0;34m)\u001b[0m\u001b[0;34m\u001b[0m\u001b[0m\n",
      "\u001b[0;31mIndexError\u001b[0m: list index out of range"
     ]
    }
   ],
   "source": [
    "# To delete after testing\n",
    "# Load page 1 to get total page count and url row indice\n",
    "datas = urllib.urlopen('http://en.artron.net/auction/paimai-list.php?page=4&zcid=PZ2029244&o=0').read()\n",
    "s = BeautifulSoup(datas)\n",
    "tables = s.findAll(\"table\")\n",
    "# total page count\n",
    "page = tables[2].findAll('td')[4].string.strip()\n",
    "page_count = [int(s) for s in page.split() if s.isdigit()][0]\n",
    "# url rows indice\n",
    "count = []\n",
    "print len(tables[2].findAll('td'))\n",
    "for i in range(1,100):\n",
    "    if len(tables[2].findAll('td')[i].findAll('a',href=True))>0:\n",
    "        count.append(i)"
   ]
  },
  {
   "cell_type": "code",
   "execution_count": 51,
   "metadata": {
    "collapsed": false
   },
   "outputs": [
    {
     "data": {
      "text/plain": [
       "0"
      ]
     },
     "execution_count": 51,
     "metadata": {},
     "output_type": "execute_result"
    }
   ],
   "source": [
    "# To delete after testing\n",
    "datas = urllib.urlopen('http://en.artron.net/auction/paimai-result.php?page=3&jgid=JG1059').read()\n",
    "s = BeautifulSoup(datas)\n",
    "tables = s.findAll(\"table\")\n",
    "len(tables[4].findAll('td'))\n",
    "#tables[4].findAll('td')[96]\n",
    "len(tables[4].findAll('td')[97].findAll('a',href=True))"
   ]
  },
  {
   "cell_type": "code",
   "execution_count": 139,
   "metadata": {
    "collapsed": true
   },
   "outputs": [],
   "source": [
    "def page_scrap(page_num,url_s,url_e,table_idx):\n",
    "    datas = urllib.urlopen(url_s+page_num+url_e).read()\n",
    "    s = BeautifulSoup(datas)\n",
    "    tables = s.findAll(\"table\")\n",
    "    td_count = len(tables[table_idx].findAll('td'))\n",
    "    return td_count"
   ]
  },
  {
   "cell_type": "code",
   "execution_count": 159,
   "metadata": {
    "collapsed": true
   },
   "outputs": [],
   "source": [
    "def cleaning(urls,remove_patten):\n",
    "    new_urls = []\n",
    "    new_urls = [x for x in urls if remove_patten in x]\n",
    "    return new_urls"
   ]
  },
  {
   "cell_type": "code",
   "execution_count": 168,
   "metadata": {
    "collapsed": false
   },
   "outputs": [],
   "source": [
    "def get_urls(url_s,url_e,table_idx,clean_str):\n",
    "    url_pre = 'http://en.artron.net/auction/'\n",
    "    urls = []\n",
    "    # Use page 1 to calculate total page count to scrap\n",
    "    result = ''\n",
    "    if 'jgid' in url_e:\n",
    "        result = 'auctions'\n",
    "    if 'zcid' in url_e:\n",
    "        result = 'items'\n",
    "    print \"Source url:\"+url_s+'1'+url_e\n",
    "    datas = urllib.urlopen(url_s+'1'+url_e).read()\n",
    "    s = BeautifulSoup(datas)\n",
    "    tables = s.findAll(\"table\")\n",
    "    # total page count\n",
    "    page = tables[2].findAll('td')[4].string.strip()\n",
    "    page_count = [int(s) for s in page.split() if s.isdigit()][0]\n",
    "    # Use page count acquired above to calculate individual row's index\n",
    "    for p in range(1,page_count+1):\n",
    "        print \"Scrapping page:\"+str(p)\n",
    "        tds = page_scrap(str(p),url_s,url_e,table_idx)\n",
    "        print \"Total td tag counts:\" + str(tds)\n",
    "        datas = urllib.urlopen(url_s+str(p)+url_e).read()\n",
    "        s = BeautifulSoup(datas)\n",
    "        tables = s.findAll(\"table\")\n",
    "        # count is to store the index of td with href only\n",
    "        count = []\n",
    "        for i in range(1,tds):\n",
    "            # Look for a td with href in it\n",
    "            if len(tables[table_idx].findAll('td')[i].findAll('a',href=True))>0:\n",
    "                count.append(i)\n",
    "        for i in count:\n",
    "            # Get the actual href value in each a tag\n",
    "            auction_href = tables[table_idx].findAll('td')[i].findAll('a',href=True)[0]['href']\n",
    "            urls.append(url_pre+auction_href)\n",
    "    urls = cleaning(urls,clean_str)\n",
    "    print \"There are in total %d %s in this scrap\" % (len(urls),result)\n",
    "    return urls"
   ]
  },
  {
   "cell_type": "code",
   "execution_count": 169,
   "metadata": {
    "collapsed": false
   },
   "outputs": [
    {
     "name": "stdout",
     "output_type": "stream",
     "text": [
      "Source url:http://en.artron.net/auction/paimai-result.php?page=1&jgid=JG1059\n",
      "Scrapping page:1\n",
      "Total td tag counts:96\n",
      "Scrapping page:2\n",
      "Total td tag counts:90\n",
      "Scrapping page:3\n",
      "Total td tag counts:100\n",
      "Scrapping page:4\n",
      "Total td tag counts:52\n",
      "There are in total 67 auctions in this scrap\n"
     ]
    }
   ],
   "source": [
    "auctions = get_urls(fx_url_s,fx_url_e,4,'paimai-list.php?zcid=')"
   ]
  },
  {
   "cell_type": "code",
   "execution_count": 170,
   "metadata": {
    "collapsed": false
   },
   "outputs": [
    {
     "data": {
      "text/plain": [
       "[u'http://en.artron.net/auction/paimai-list.php?zcid=PZ2029244',\n",
       " u'http://en.artron.net/auction/paimai-list.php?zcid=PZ2029245',\n",
       " u'http://en.artron.net/auction/paimai-list.php?zcid=PZ2029247',\n",
       " u'http://en.artron.net/auction/paimai-list.php?zcid=PZ2027078',\n",
       " u'http://en.artron.net/auction/paimai-list.php?zcid=PZ2027079']"
      ]
     },
     "execution_count": 170,
     "metadata": {},
     "output_type": "execute_result"
    }
   ],
   "source": [
    "auctions[:5]"
   ]
  },
  {
   "cell_type": "markdown",
   "metadata": {},
   "source": [
    "# To scrap for each auction items, get_urls() can be used with modified url_fixes#"
   ]
  },
  {
   "cell_type": "code",
   "execution_count": 171,
   "metadata": {
    "collapsed": false
   },
   "outputs": [
    {
     "name": "stdout",
     "output_type": "stream",
     "text": [
      "Source url:http://en.artron.net/auction/paimai-list.php?page=1&zcid=PZ2029244\n",
      "Scrapping page:1\n",
      "Total td tag counts:103\n",
      "Scrapping page:2\n",
      "Total td tag counts:103\n",
      "Scrapping page:3\n",
      "Total td tag counts:103\n",
      "Scrapping page:4\n",
      "Total td tag counts:27\n",
      "There are in total 69 items in this scrap\n",
      "Source url:http://en.artron.net/auction/paimai-list.php?page=1&zcid=PZ2029245\n",
      "Scrapping page:1\n",
      "Total td tag counts:103\n",
      "Scrapping page:2\n",
      "Total td tag counts:103\n",
      "Scrapping page:3\n",
      "Total td tag counts:103\n",
      "Scrapping page:4\n",
      "Total td tag counts:103\n",
      "Scrapping page:5\n",
      "Total td tag counts:103\n",
      "Scrapping page:6\n",
      "Total td tag counts:103\n",
      "Scrapping page:7\n",
      "Total td tag counts:103\n",
      "Scrapping page:8\n",
      "Total td tag counts:103\n",
      "Scrapping page:9\n",
      "Total td tag counts:103\n",
      "Scrapping page:10\n",
      "Total td tag counts:103\n",
      "Scrapping page:11\n",
      "Total td tag counts:103\n",
      "Scrapping page:12\n",
      "Total td tag counts:103\n",
      "Scrapping page:13\n",
      "Total td tag counts:103\n",
      "Scrapping page:14\n",
      "Total td tag counts:103\n",
      "Scrapping page:15\n",
      "Total td tag counts:91\n",
      "There are in total 327 items in this scrap\n",
      "Source url:http://en.artron.net/auction/paimai-list.php?page=1&zcid=PZ2029247\n",
      "Scrapping page:1\n",
      "Total td tag counts:103\n",
      "Scrapping page:2\n",
      "Total td tag counts:103\n",
      "Scrapping page:3\n",
      "Total td tag counts:103\n",
      "Scrapping page:4\n",
      "Total td tag counts:103\n",
      "Scrapping page:5\n",
      "Total td tag counts:103\n",
      "Scrapping page:6\n",
      "Total td tag counts:103\n",
      "Scrapping page:7\n",
      "Total td tag counts:103\n",
      "Scrapping page:8\n",
      "Total td tag counts:103\n",
      "Scrapping page:9\n",
      "Total td tag counts:103\n",
      "Scrapping page:10\n",
      "Total td tag counts:103\n",
      "Scrapping page:11\n",
      "Total td tag counts:103\n",
      "Scrapping page:12\n",
      "Total td tag counts:103\n",
      "Scrapping page:13\n",
      "Total td tag counts:103\n",
      "Scrapping page:14\n",
      "Total td tag counts:51\n",
      "There are in total 295 items in this scrap\n",
      "Source url:http://en.artron.net/auction/paimai-list.php?page=1&zcid=PZ2027078\n",
      "Scrapping page:1\n",
      "Total td tag counts:103\n",
      "Scrapping page:2\n",
      "Total td tag counts:39\n",
      "There are in total 28 items in this scrap\n",
      "Source url:http://en.artron.net/auction/paimai-list.php?page=1&zcid=PZ2027079\n",
      "Scrapping page:1\n",
      "Total td tag counts:103\n",
      "Scrapping page:2\n",
      "Total td tag counts:103\n",
      "Scrapping page:3\n",
      "Total td tag counts:103\n",
      "Scrapping page:4\n",
      "Total td tag counts:103\n",
      "Scrapping page:5\n",
      "Total td tag counts:103\n",
      "Scrapping page:6\n",
      "Total td tag counts:103\n",
      "Scrapping page:7\n",
      "Total td tag counts:103\n",
      "Scrapping page:8\n",
      "Total td tag counts:103\n",
      "Scrapping page:9\n",
      "Total td tag counts:103\n",
      "Scrapping page:10\n",
      "Total td tag counts:103\n",
      "Scrapping page:11\n",
      "Total td tag counts:103\n",
      "Scrapping page:12\n",
      "Total td tag counts:103\n",
      "Scrapping page:13\n",
      "Total td tag counts:103\n",
      "Scrapping page:14\n",
      "Total td tag counts:103\n",
      "Scrapping page:15\n",
      "Total td tag counts:103\n",
      "Scrapping page:16\n",
      "Total td tag counts:103\n",
      "Scrapping page:17\n",
      "Total td tag counts:99\n",
      "There are in total 373 items in this scrap\n",
      "Source url:http://en.artron.net/auction/paimai-list.php?page=1&zcid=PZ2027080\n",
      "Scrapping page:1\n",
      "Total td tag counts:103\n",
      "Scrapping page:2\n",
      "Total td tag counts:103\n",
      "Scrapping page:3\n",
      "Total td tag counts:103\n",
      "Scrapping page:4\n",
      "Total td tag counts:103\n",
      "Scrapping page:5\n",
      "Total td tag counts:103\n",
      "Scrapping page:6\n",
      "Total td tag counts:103\n",
      "Scrapping page:7\n",
      "Total td tag counts:103\n",
      "Scrapping page:8\n",
      "Total td tag counts:103\n",
      "Scrapping page:9\n",
      "Total td tag counts:103\n",
      "Scrapping page:10\n",
      "Total td tag counts:103\n",
      "Scrapping page:11\n",
      "Total td tag counts:103\n",
      "Scrapping page:12\n",
      "Total td tag counts:103\n",
      "Scrapping page:13\n",
      "Total td tag counts:103\n",
      "Scrapping page:14\n",
      "Total td tag counts:103\n",
      "Scrapping page:15\n",
      "Total td tag counts:103\n",
      "Scrapping page:16\n",
      "Total td tag counts:103\n",
      "Scrapping page:17\n",
      "Total td tag counts:103\n",
      "Scrapping page:18\n",
      "Total td tag counts:103\n",
      "Scrapping page:19\n",
      "Total td tag counts:103\n",
      "Scrapping page:20\n",
      "Total td tag counts:79\n",
      "There are in total 434 items in this scrap\n",
      "Source url:http://en.artron.net/auction/paimai-list.php?page=1&zcid=PZ2027081\n",
      "Scrapping page:1\n",
      "Total td tag counts:103\n",
      "Scrapping page:2\n",
      "Total td tag counts:103\n",
      "Scrapping page:3\n",
      "Total td tag counts:103\n",
      "Scrapping page:4\n",
      "Total td tag counts:103\n",
      "Scrapping page:5\n",
      "Total td tag counts:103\n",
      "Scrapping page:6\n",
      "Total td tag counts:103\n",
      "Scrapping page:7\n",
      "Total td tag counts:103\n",
      "Scrapping page:8\n",
      "Total td tag counts:103\n",
      "Scrapping page:9\n",
      "Total td tag counts:103\n",
      "Scrapping page:10\n",
      "Total td tag counts:103\n",
      "Scrapping page:11\n",
      "Total td tag counts:103\n",
      "Scrapping page:12\n",
      "Total td tag counts:103\n",
      "Scrapping page:13\n",
      "Total td tag counts:103\n",
      "Scrapping page:14\n",
      "Total td tag counts:103\n",
      "Scrapping page:15\n",
      "Total td tag counts:103\n",
      "Scrapping page:16\n",
      "Total td tag counts:103\n",
      "Scrapping page:17\n",
      "Total td tag counts:59\n",
      "There are in total 363 items in this scrap\n",
      "Source url:http://en.artron.net/auction/paimai-list.php?page=1&zcid=PZ2025071\n",
      "Scrapping page:1\n",
      "Total td tag counts:103\n",
      "Scrapping page:2\n",
      "Total td tag counts:103\n",
      "Scrapping page:3\n",
      "Total td tag counts:103\n",
      "Scrapping page:4\n",
      "Total td tag counts:103\n",
      "Scrapping page:5\n",
      "Total td tag counts:103\n",
      "Scrapping page:6\n",
      "Total td tag counts:103\n",
      "Scrapping page:7\n",
      "Total td tag counts:103\n",
      "Scrapping page:8\n",
      "Total td tag counts:103\n",
      "Scrapping page:9\n",
      "Total td tag counts:103\n",
      "Scrapping page:10\n",
      "Total td tag counts:103\n",
      "Scrapping page:11\n",
      "Total td tag counts:103\n",
      "Scrapping page:12\n",
      "Total td tag counts:103\n",
      "Scrapping page:13\n",
      "Total td tag counts:103\n",
      "Scrapping page:14\n",
      "Total td tag counts:103\n",
      "Scrapping page:15\n",
      "Total td tag counts:103\n",
      "Scrapping page:16\n",
      "Total td tag counts:103\n",
      "Scrapping page:17\n",
      "Total td tag counts:103\n",
      "Scrapping page:18\n",
      "Total td tag counts:35\n",
      "There are in total 379 items in this scrap\n",
      "Source url:http://en.artron.net/auction/paimai-list.php?page=1&zcid=PZ2025072\n",
      "Scrapping page:1\n",
      "Total td tag counts:103\n",
      "Scrapping page:2\n",
      "Total td tag counts:103\n",
      "Scrapping page:3\n",
      "Total td tag counts:103\n",
      "Scrapping page:4\n",
      "Total td tag counts:103\n",
      "Scrapping page:5\n",
      "Total td tag counts:103\n",
      "Scrapping page:6\n",
      "Total td tag counts:103\n",
      "Scrapping page:7\n",
      "Total td tag counts:103\n",
      "Scrapping page:8\n",
      "Total td tag counts:103\n",
      "Scrapping page:9\n",
      "Total td tag counts:103\n",
      "Scrapping page:10\n",
      "Total td tag counts:103\n",
      "Scrapping page:11\n",
      "Total td tag counts:103\n",
      "Scrapping page:12\n",
      "Total td tag counts:103\n",
      "Scrapping page:13\n",
      "Total td tag counts:35\n",
      "There are in total 269 items in this scrap\n",
      "Source url:http://en.artron.net/auction/paimai-list.php?page=1&zcid=PZ2024074\n",
      "Scrapping page:1\n",
      "Total td tag counts:103\n",
      "Scrapping page:2\n",
      "Total td tag counts:103\n",
      "Scrapping page:3\n",
      "Total td tag counts:103\n",
      "Scrapping page:4\n",
      "Total td tag counts:103\n",
      "Scrapping page:5\n",
      "Total td tag counts:87\n",
      "There are in total 106 items in this scrap\n"
     ]
    }
   ],
   "source": [
    "item_urls = []\n",
    "for a in new_auc[:10]:\n",
    "    fx_b = a.split('php?zcid=')[0]+'php?page='\n",
    "    fx_e = '&zcid='+a.split('php?zcid=')[1]\n",
    "    items = get_urls(fx_b,fx_e,2,'php?picid=')\n",
    "    item_urls += new_items"
   ]
  },
  {
   "cell_type": "code",
   "execution_count": 172,
   "metadata": {
    "collapsed": false
   },
   "outputs": [
    {
     "data": {
      "text/plain": [
       "690"
      ]
     },
     "execution_count": 172,
     "metadata": {},
     "output_type": "execute_result"
    }
   ],
   "source": [
    "len(item_urls)"
   ]
  },
  {
   "cell_type": "code",
   "execution_count": 173,
   "metadata": {
    "collapsed": false
   },
   "outputs": [
    {
     "data": {
      "text/plain": [
       "[u'http://en.artron.net/auction/showpic.php?picid=art5087740001',\n",
       " u'http://en.artron.net/auction/showpic.php?picid=art5087740001',\n",
       " u'http://en.artron.net/auction/showpic.php?picid=art5087740001',\n",
       " u'http://en.artron.net/auction/showpic.php?picid=art5087740002',\n",
       " u'http://en.artron.net/auction/showpic.php?picid=art5087740003']"
      ]
     },
     "execution_count": 173,
     "metadata": {},
     "output_type": "execute_result"
    }
   ],
   "source": [
    "item_urls[:5]"
   ]
  },
  {
   "cell_type": "code",
   "execution_count": null,
   "metadata": {
    "collapsed": true
   },
   "outputs": [],
   "source": []
  }
 ],
 "metadata": {
  "kernelspec": {
   "display_name": "Python 2",
   "language": "python",
   "name": "python2"
  },
  "language_info": {
   "codemirror_mode": {
    "name": "ipython",
    "version": 2
   },
   "file_extension": ".py",
   "mimetype": "text/x-python",
   "name": "python",
   "nbconvert_exporter": "python",
   "pygments_lexer": "ipython2",
   "version": "2.7.12"
  }
 },
 "nbformat": 4,
 "nbformat_minor": 0
}
