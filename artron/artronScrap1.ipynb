{
 "cells": [
  {
   "cell_type": "markdown",
   "metadata": {},
   "source": [
    "#Scraps all auctions from a specific auction house#"
   ]
  },
  {
   "cell_type": "code",
   "execution_count": 1,
   "metadata": {
    "collapsed": true
   },
   "outputs": [],
   "source": [
    "from BeautifulSoup import BeautifulSoup\n",
    "import urllib,string,csv,sys,os\n",
    "import pandas as pd"
   ]
  },
  {
   "cell_type": "code",
   "execution_count": 2,
   "metadata": {
    "collapsed": true
   },
   "outputs": [],
   "source": [
    "# Set the fixed parts of the URL\n",
    "fx_url_s = 'http://en.artron.net/auction/paimai-result.php?page='\n",
    "fx_url_e = '&jgid=JG1059'"
   ]
  },
  {
   "cell_type": "code",
   "execution_count": 78,
   "metadata": {
    "collapsed": true
   },
   "outputs": [],
   "source": [
    "# Load page 1 to get total page count and url row indice\n",
    "datas = urllib.urlopen('http://en.artron.net/auction/paimai-result.php?page=1&jgid=JG1059').read()\n",
    "s = BeautifulSoup(datas)\n",
    "tables = s.findAll(\"table\")\n",
    "# total page count\n",
    "page = tables[2].findAll('td')[4].string.strip()\n",
    "page_count = [int(s) for s in page.split() if s.isdigit()][0]\n",
    "# url rows indice\n",
    "count = []\n",
    "for i in range(1,96):\n",
    "    if len(tables[4].findAll('td')[i].findAll('a',href=True))>0:\n",
    "        count.append(i)"
   ]
  },
  {
   "cell_type": "code",
   "execution_count": 40,
   "metadata": {
    "collapsed": false
   },
   "outputs": [
    {
     "data": {
      "text/plain": [
       "96"
      ]
     },
     "execution_count": 40,
     "metadata": {},
     "output_type": "execute_result"
    }
   ],
   "source": [
    "datas = urllib.urlopen('http://en.artron.net/auction/paimai-result.php?page=1&jgid=JG1059').read()\n",
    "s = BeautifulSoup(datas)\n",
    "tables = s.findAll(\"table\")\n",
    "len(tables[4].findAll('td'))\n"
   ]
  },
  {
   "cell_type": "code",
   "execution_count": 80,
   "metadata": {
    "collapsed": true
   },
   "outputs": [],
   "source": [
    "def get_auctions(url_s,url_e,total_page):\n",
    "    url_pre = 'http://en.artron.net/auction/'\n",
    "    urls = []\n",
    "    # Read in page by page\n",
    "    for p in range(1,total_page+1):\n",
    "        url = url_s+str(p)+url_e\n",
    "        data = urllib.urlopen(url).read()\n",
    "        soup = BeautifulSoup(data)\n",
    "        \n",
    "        try:\n",
    "            tables = soup.findAll(\"table\")\n",
    "        except AttributeError as e:\n",
    "            raise ValueError(\"No valid table found\")\n",
    "        for i in count:\n",
    "            auction_href = tables[4].findAll('td')[i].findAll('a',href=True)[0]['href']\n",
    "            urls.append(url_pre+auction_href)\n",
    "        return urls"
   ]
  },
  {
   "cell_type": "code",
   "execution_count": 82,
   "metadata": {
    "collapsed": false
   },
   "outputs": [],
   "source": [
    "auctions = get_auctions(fx_url_s,fx_url_e,page_count)"
   ]
  },
  {
   "cell_type": "code",
   "execution_count": 86,
   "metadata": {
    "collapsed": false
   },
   "outputs": [],
   "source": [
    "auctions[:] = [url for url in auctions if ('paimai-list' in url)]"
   ]
  },
  {
   "cell_type": "code",
   "execution_count": 89,
   "metadata": {
    "collapsed": false
   },
   "outputs": [
    {
     "data": {
      "text/plain": [
       "20"
      ]
     },
     "execution_count": 89,
     "metadata": {},
     "output_type": "execute_result"
    }
   ],
   "source": [
    "len(auctions)"
   ]
  },
  {
   "cell_type": "code",
   "execution_count": 90,
   "metadata": {
    "collapsed": false
   },
   "outputs": [
    {
     "data": {
      "text/plain": [
       "[u'http://en.artron.net/auction/paimai-list.php?zcid=PZ2029244',\n",
       " u'http://en.artron.net/auction/paimai-list.php?zcid=PZ2029245',\n",
       " u'http://en.artron.net/auction/paimai-list.php?zcid=PZ2029247',\n",
       " u'http://en.artron.net/auction/paimai-list.php?zcid=PZ2027078',\n",
       " u'http://en.artron.net/auction/paimai-list.php?zcid=PZ2027079']"
      ]
     },
     "execution_count": 90,
     "metadata": {},
     "output_type": "execute_result"
    }
   ],
   "source": [
    "auctions[:5]"
   ]
  },
  {
   "cell_type": "code",
   "execution_count": null,
   "metadata": {
    "collapsed": true
   },
   "outputs": [],
   "source": []
  }
 ],
 "metadata": {
  "kernelspec": {
   "display_name": "Python 2",
   "language": "python",
   "name": "python2"
  },
  "language_info": {
   "codemirror_mode": {
    "name": "ipython",
    "version": 2
   },
   "file_extension": ".py",
   "mimetype": "text/x-python",
   "name": "python",
   "nbconvert_exporter": "python",
   "pygments_lexer": "ipython2",
   "version": "2.7.10"
  }
 },
 "nbformat": 4,
 "nbformat_minor": 0
}
