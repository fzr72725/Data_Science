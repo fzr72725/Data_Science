{
 "cells": [
  {
   "cell_type": "code",
   "execution_count": 1,
   "metadata": {
    "collapsed": true
   },
   "outputs": [],
   "source": [
    "import pandas as pd\n",
    "from lxml.html import parse\n",
    "from urllib2 import urlopen\n",
    "from pandas import DataFrame, Series"
   ]
  },
  {
   "cell_type": "code",
   "execution_count": 2,
   "metadata": {
    "collapsed": true
   },
   "outputs": [],
   "source": [
    "url='http://en.artron.net/auction/paimai-list.php?zcid=PZ2029244'"
   ]
  },
  {
   "cell_type": "code",
   "execution_count": 3,
   "metadata": {
    "collapsed": false
   },
   "outputs": [],
   "source": [
    "doc = parse(urlopen(url)).getroot()"
   ]
  },
  {
   "cell_type": "code",
   "execution_count": 4,
   "metadata": {
    "collapsed": true
   },
   "outputs": [],
   "source": [
    "tables = doc.findall('.//table')"
   ]
  },
  {
   "cell_type": "code",
   "execution_count": 5,
   "metadata": {
    "collapsed": false
   },
   "outputs": [
    {
     "data": {
      "text/plain": [
       "8"
      ]
     },
     "execution_count": 5,
     "metadata": {},
     "output_type": "execute_result"
    }
   ],
   "source": [
    "len(tables)"
   ]
  },
  {
   "cell_type": "code",
   "execution_count": 6,
   "metadata": {
    "collapsed": false
   },
   "outputs": [
    {
     "data": {
      "text/plain": [
       "[<Element tr at 0x10e63c2b8>,\n",
       " <Element tr at 0x10e63c730>,\n",
       " <Element tr at 0x10e63c788>,\n",
       " <Element tr at 0x10e63c7e0>,\n",
       " <Element tr at 0x10e63c838>,\n",
       " <Element tr at 0x10e63c890>,\n",
       " <Element tr at 0x10e63c8e8>,\n",
       " <Element tr at 0x10e63c940>,\n",
       " <Element tr at 0x10e63c998>,\n",
       " <Element tr at 0x10e63c9f0>,\n",
       " <Element tr at 0x10e63ca48>,\n",
       " <Element tr at 0x10e63caa0>,\n",
       " <Element tr at 0x10e63caf8>,\n",
       " <Element tr at 0x10e63cb50>,\n",
       " <Element tr at 0x10e63cba8>,\n",
       " <Element tr at 0x10e63cc00>,\n",
       " <Element tr at 0x10e63cc58>,\n",
       " <Element tr at 0x10e63ccb0>,\n",
       " <Element tr at 0x10e63cd08>,\n",
       " <Element tr at 0x10e63cd60>,\n",
       " <Element tr at 0x10e63cdb8>,\n",
       " <Element tr at 0x10e63ce10>,\n",
       " <Element tr at 0x10e63ce68>,\n",
       " <Element tr at 0x10e63cec0>,\n",
       " <Element tr at 0x10e63cf18>,\n",
       " <Element tr at 0x10e63cf70>,\n",
       " <Element tr at 0x10e63cfc8>,\n",
       " <Element tr at 0x110fe7050>,\n",
       " <Element tr at 0x110fe70a8>,\n",
       " <Element tr at 0x110fe7100>]"
      ]
     },
     "execution_count": 6,
     "metadata": {},
     "output_type": "execute_result"
    }
   ],
   "source": [
    "tables[1].findall('.//tr')"
   ]
  },
  {
   "cell_type": "code",
   "execution_count": 7,
   "metadata": {
    "collapsed": false
   },
   "outputs": [
    {
     "data": {
      "text/plain": [
       "u'\\r\\n    \\r\\n        Christie\\u2019s London Ltd.\\r\\n    >>\\r\\n    2016 May Auction    >>\\r\\n    Inspired themes: a fine selection of chinese works of art    \\r\\n      Total 88 lots , Lots 0001-0088         , Sold 61 Lots  , Sold Total:GBP\\xa0488 , Rate:%\\r\\n        \\r\\n\\t    \\r\\n  '"
      ]
     },
     "execution_count": 7,
     "metadata": {},
     "output_type": "execute_result"
    }
   ],
   "source": [
    "tables[1].findall('.//tr')[0].text_content()"
   ]
  },
  {
   "cell_type": "code",
   "execution_count": 8,
   "metadata": {
    "collapsed": false
   },
   "outputs": [
    {
     "data": {
      "text/plain": [
       "'\\r\\n          Lot\\r\\n          Name\\r\\n          Estimate\\r\\n          Price\\r\\n        '"
      ]
     },
     "execution_count": 8,
     "metadata": {},
     "output_type": "execute_result"
    }
   ],
   "source": [
    "tables[1].findall('.//tr')[7].text_content()"
   ]
  },
  {
   "cell_type": "code",
   "execution_count": 9,
   "metadata": {
    "collapsed": false
   },
   "outputs": [
    {
     "data": {
      "text/plain": [
       "u\"\\r\\n          0001\\r\\n          \\r\\n                    \\t\\xa0A VERY RARE CINNABAR LACQUER \\u2018MALLET' VASE\\r\\n          \\r\\n          \\r\\n          GBP\\xa015,000-20,000          \\r\\n          \\r\\n          GBP\\xa0698,500          \\r\\n        \""
      ]
     },
     "execution_count": 9,
     "metadata": {},
     "output_type": "execute_result"
    }
   ],
   "source": [
    "tables[1].findall('.//tr')[8].text_content()"
   ]
  },
  {
   "cell_type": "code",
   "execution_count": 10,
   "metadata": {
    "collapsed": true
   },
   "outputs": [],
   "source": [
    "rows = tables[1].findall('.//tr')"
   ]
  },
  {
   "cell_type": "code",
   "execution_count": 11,
   "metadata": {
    "collapsed": true
   },
   "outputs": [],
   "source": [
    "def _unpack(row, kind='td'):\n",
    "    elts = row.findall('.//%s' % kind)\n",
    "    return [val.text_content() for val in elts]"
   ]
  },
  {
   "cell_type": "code",
   "execution_count": 12,
   "metadata": {
    "collapsed": false
   },
   "outputs": [],
   "source": [
    "#_unpack(rows[7])"
   ]
  },
  {
   "cell_type": "code",
   "execution_count": 13,
   "metadata": {
    "collapsed": false
   },
   "outputs": [],
   "source": [
    "#_unpack(rows[7])[:4]"
   ]
  },
  {
   "cell_type": "code",
   "execution_count": 14,
   "metadata": {
    "collapsed": false
   },
   "outputs": [
    {
     "data": {
      "text/plain": [
       "[u'\\r\\n        Christie\\u2019s London Ltd.\\r\\n    >>\\r\\n    2016 May Auction    >>\\r\\n    Inspired themes: a fine selection of chinese works of art    \\r\\n      Total 88 lots , Lots 0001-0088         , Sold 61 Lots  , Sold Total:GBP\\xa0488 , Rate:%\\r\\n        \\r\\n\\t    ']"
      ]
     },
     "execution_count": 14,
     "metadata": {},
     "output_type": "execute_result"
    }
   ],
   "source": [
    "_unpack(rows[0])"
   ]
  },
  {
   "cell_type": "code",
   "execution_count": 17,
   "metadata": {
    "collapsed": false
   },
   "outputs": [],
   "source": [
    "data = DataFrame([_unpack(r)[:4] for r in rows[8:28]],columns=_unpack(rows[7]))"
   ]
  },
  {
   "cell_type": "code",
   "execution_count": 18,
   "metadata": {
    "collapsed": false
   },
   "outputs": [
    {
     "data": {
      "text/html": [
       "<div>\n",
       "<table border=\"1\" class=\"dataframe\">\n",
       "  <thead>\n",
       "    <tr style=\"text-align: right;\">\n",
       "      <th></th>\n",
       "      <th>Lot</th>\n",
       "      <th>Name</th>\n",
       "      <th>Estimate</th>\n",
       "      <th>Price</th>\n",
       "    </tr>\n",
       "  </thead>\n",
       "  <tbody>\n",
       "    <tr>\n",
       "      <th>0</th>\n",
       "      <td>0001</td>\n",
       "      <td>\\r\\n                    \\t A VERY RARE CINNABA...</td>\n",
       "      <td>\\r\\n          GBP 15,000-20,000</td>\n",
       "      <td>\\r\\n          GBP 698,500</td>\n",
       "    </tr>\n",
       "    <tr>\n",
       "      <th>1</th>\n",
       "      <td>0002</td>\n",
       "      <td>\\r\\n                    \\t A CLOISONNÉENAMEL T...</td>\n",
       "      <td>\\r\\n          GBP 15,000-20,000</td>\n",
       "      <td>\\r\\n          GBP 25,000</td>\n",
       "    </tr>\n",
       "    <tr>\n",
       "      <th>2</th>\n",
       "      <td>0003</td>\n",
       "      <td>\\r\\n                    \\t A RARE IMPERIALCLOI...</td>\n",
       "      <td>\\r\\n          GBP 60,000-80,000</td>\n",
       "      <td>\\r\\n          GBP 74,500</td>\n",
       "    </tr>\n",
       "    <tr>\n",
       "      <th>3</th>\n",
       "      <td>0004</td>\n",
       "      <td>\\r\\n                    \\t A PAIR OFCLOISONNÉ ...</td>\n",
       "      <td>\\r\\n          GBP 10,000-15,000</td>\n",
       "      <td>\\r\\n          GBP 19,375</td>\n",
       "    </tr>\n",
       "    <tr>\n",
       "      <th>4</th>\n",
       "      <td>0005</td>\n",
       "      <td>\\r\\n                    \\t A RARE CLOISONNÉENA...</td>\n",
       "      <td>\\r\\n          GBP 20,000-30,000</td>\n",
       "      <td>\\r\\n          GBP 21,250</td>\n",
       "    </tr>\n",
       "    <tr>\n",
       "      <th>5</th>\n",
       "      <td>0007</td>\n",
       "      <td>\\r\\n                    \\t A MATT BLACK-GLAZED...</td>\n",
       "      <td>\\r\\n          GBP 15,000-25,000</td>\n",
       "      <td>\\r\\n          GBP 15,000</td>\n",
       "    </tr>\n",
       "    <tr>\n",
       "      <th>6</th>\n",
       "      <td>0008</td>\n",
       "      <td>\\r\\n                    \\t A GREEN-ENAMELLED ‘...</td>\n",
       "      <td>\\r\\n          GBP 15,000-20,000</td>\n",
       "      <td>\\r\\n          GBP 12,500</td>\n",
       "    </tr>\n",
       "    <tr>\n",
       "      <th>7</th>\n",
       "      <td>0012</td>\n",
       "      <td>\\r\\n                    \\t AN IVORY AND GOURD ...</td>\n",
       "      <td>\\r\\n          GBP 15,000-25,000</td>\n",
       "      <td>\\r\\n          GBP 18,750</td>\n",
       "    </tr>\n",
       "    <tr>\n",
       "      <th>8</th>\n",
       "      <td>0013</td>\n",
       "      <td>\\r\\n                    \\t A PAIR OF ARCHAISTI...</td>\n",
       "      <td>\\r\\n          GBP 15,000-20,000</td>\n",
       "      <td>\\r\\n          GBP 17,500</td>\n",
       "    </tr>\n",
       "    <tr>\n",
       "      <th>9</th>\n",
       "      <td>0015</td>\n",
       "      <td>\\r\\n                    \\t A GILT REPOUSSÉBRON...</td>\n",
       "      <td>\\r\\n          GBP 20,000-40,000</td>\n",
       "      <td>\\r\\n          GBP 25,000</td>\n",
       "    </tr>\n",
       "    <tr>\n",
       "      <th>10</th>\n",
       "      <td>0016</td>\n",
       "      <td>\\r\\n                    \\t A LARGE GILT-BRONZE...</td>\n",
       "      <td>\\r\\n          GBP 40,000-60,000</td>\n",
       "      <td>\\r\\n          GBP 266,500</td>\n",
       "    </tr>\n",
       "    <tr>\n",
       "      <th>11</th>\n",
       "      <td>0019</td>\n",
       "      <td>\\r\\n                    \\t A GILT-BRONZE FIGUR...</td>\n",
       "      <td>\\r\\n          GBP 15,000-20,000</td>\n",
       "      <td>\\r\\n          GBP 12,500</td>\n",
       "    </tr>\n",
       "    <tr>\n",
       "      <th>12</th>\n",
       "      <td>0021</td>\n",
       "      <td>\\r\\n                    \\t A GILT BRONZE FIGUR...</td>\n",
       "      <td>\\r\\n          GBP 10,000-15,000</td>\n",
       "      <td>\\r\\n          GBP 20,000</td>\n",
       "    </tr>\n",
       "    <tr>\n",
       "      <th>13</th>\n",
       "      <td>0022</td>\n",
       "      <td>\\r\\n                    \\t A GILT-BRONZE FIGUR...</td>\n",
       "      <td>\\r\\n          GBP 10,000-15,000</td>\n",
       "      <td>\\r\\n          GBP 13,750</td>\n",
       "    </tr>\n",
       "    <tr>\n",
       "      <th>14</th>\n",
       "      <td>0025</td>\n",
       "      <td>\\r\\n                    \\t A PAINTED WOOD FIGU...</td>\n",
       "      <td>\\r\\n          GBP 10,000-15,000</td>\n",
       "      <td>\\r\\n          GBP 116,500</td>\n",
       "    </tr>\n",
       "    <tr>\n",
       "      <th>15</th>\n",
       "      <td>0027</td>\n",
       "      <td>\\r\\n                    \\t A LARGE POLYCHROME ...</td>\n",
       "      <td>\\r\\n          GBP 40,000-60,000</td>\n",
       "      <td>\\r\\n          GBP 50,000</td>\n",
       "    </tr>\n",
       "    <tr>\n",
       "      <th>16</th>\n",
       "      <td>0030</td>\n",
       "      <td>\\r\\n                    \\t A FINELY CARVED AND...</td>\n",
       "      <td>\\r\\n          GBP 60,000-80,000</td>\n",
       "      <td>\\r\\n          GBP 80,500</td>\n",
       "    </tr>\n",
       "    <tr>\n",
       "      <th>17</th>\n",
       "      <td>0031</td>\n",
       "      <td>\\r\\n                    \\t A SPINACH JADE TABL...</td>\n",
       "      <td>\\r\\n          GBP 10,000-15,000</td>\n",
       "      <td>\\r\\n          GBP 16,250</td>\n",
       "    </tr>\n",
       "    <tr>\n",
       "      <th>18</th>\n",
       "      <td>0032</td>\n",
       "      <td>\\r\\n                    \\t A JADE-INSETCLOISON...</td>\n",
       "      <td>\\r\\n          GBP 20,000-30,000</td>\n",
       "      <td>\\r\\n          GBP 20,000</td>\n",
       "    </tr>\n",
       "    <tr>\n",
       "      <th>19</th>\n",
       "      <td>0033</td>\n",
       "      <td>\\r\\n                    \\t A PALE CELADON JADE...</td>\n",
       "      <td>\\r\\n          GBP 40,000-60,000</td>\n",
       "      <td>\\r\\n          GBP 40,000</td>\n",
       "    </tr>\n",
       "  </tbody>\n",
       "</table>\n",
       "</div>"
      ],
      "text/plain": [
       "     Lot                                               Name  \\\n",
       "0   0001  \\r\\n                    \\t A VERY RARE CINNABA...   \n",
       "1   0002  \\r\\n                    \\t A CLOISONNÉENAMEL T...   \n",
       "2   0003  \\r\\n                    \\t A RARE IMPERIALCLOI...   \n",
       "3   0004  \\r\\n                    \\t A PAIR OFCLOISONNÉ ...   \n",
       "4   0005  \\r\\n                    \\t A RARE CLOISONNÉENA...   \n",
       "5   0007  \\r\\n                    \\t A MATT BLACK-GLAZED...   \n",
       "6   0008  \\r\\n                    \\t A GREEN-ENAMELLED ‘...   \n",
       "7   0012  \\r\\n                    \\t AN IVORY AND GOURD ...   \n",
       "8   0013  \\r\\n                    \\t A PAIR OF ARCHAISTI...   \n",
       "9   0015  \\r\\n                    \\t A GILT REPOUSSÉBRON...   \n",
       "10  0016  \\r\\n                    \\t A LARGE GILT-BRONZE...   \n",
       "11  0019  \\r\\n                    \\t A GILT-BRONZE FIGUR...   \n",
       "12  0021  \\r\\n                    \\t A GILT BRONZE FIGUR...   \n",
       "13  0022  \\r\\n                    \\t A GILT-BRONZE FIGUR...   \n",
       "14  0025  \\r\\n                    \\t A PAINTED WOOD FIGU...   \n",
       "15  0027  \\r\\n                    \\t A LARGE POLYCHROME ...   \n",
       "16  0030  \\r\\n                    \\t A FINELY CARVED AND...   \n",
       "17  0031  \\r\\n                    \\t A SPINACH JADE TABL...   \n",
       "18  0032  \\r\\n                    \\t A JADE-INSETCLOISON...   \n",
       "19  0033  \\r\\n                    \\t A PALE CELADON JADE...   \n",
       "\n",
       "                                     Estimate  \\\n",
       "0   \\r\\n          GBP 15,000-20,000             \n",
       "1   \\r\\n          GBP 15,000-20,000             \n",
       "2   \\r\\n          GBP 60,000-80,000             \n",
       "3   \\r\\n          GBP 10,000-15,000             \n",
       "4   \\r\\n          GBP 20,000-30,000             \n",
       "5   \\r\\n          GBP 15,000-25,000             \n",
       "6   \\r\\n          GBP 15,000-20,000             \n",
       "7   \\r\\n          GBP 15,000-25,000             \n",
       "8   \\r\\n          GBP 15,000-20,000             \n",
       "9   \\r\\n          GBP 20,000-40,000             \n",
       "10  \\r\\n          GBP 40,000-60,000             \n",
       "11  \\r\\n          GBP 15,000-20,000             \n",
       "12  \\r\\n          GBP 10,000-15,000             \n",
       "13  \\r\\n          GBP 10,000-15,000             \n",
       "14  \\r\\n          GBP 10,000-15,000             \n",
       "15  \\r\\n          GBP 40,000-60,000             \n",
       "16  \\r\\n          GBP 60,000-80,000             \n",
       "17  \\r\\n          GBP 10,000-15,000             \n",
       "18  \\r\\n          GBP 20,000-30,000             \n",
       "19  \\r\\n          GBP 40,000-60,000             \n",
       "\n",
       "                                  Price  \n",
       "0   \\r\\n          GBP 698,500            \n",
       "1    \\r\\n          GBP 25,000            \n",
       "2    \\r\\n          GBP 74,500            \n",
       "3    \\r\\n          GBP 19,375            \n",
       "4    \\r\\n          GBP 21,250            \n",
       "5    \\r\\n          GBP 15,000            \n",
       "6    \\r\\n          GBP 12,500            \n",
       "7    \\r\\n          GBP 18,750            \n",
       "8    \\r\\n          GBP 17,500            \n",
       "9    \\r\\n          GBP 25,000            \n",
       "10  \\r\\n          GBP 266,500            \n",
       "11   \\r\\n          GBP 12,500            \n",
       "12   \\r\\n          GBP 20,000            \n",
       "13   \\r\\n          GBP 13,750            \n",
       "14  \\r\\n          GBP 116,500            \n",
       "15   \\r\\n          GBP 50,000            \n",
       "16   \\r\\n          GBP 80,500            \n",
       "17   \\r\\n          GBP 16,250            \n",
       "18   \\r\\n          GBP 20,000            \n",
       "19   \\r\\n          GBP 40,000            "
      ]
     },
     "execution_count": 18,
     "metadata": {},
     "output_type": "execute_result"
    }
   ],
   "source": [
    "data"
   ]
  },
  {
   "cell_type": "code",
   "execution_count": null,
   "metadata": {
    "collapsed": true
   },
   "outputs": [],
   "source": []
  }
 ],
 "metadata": {
  "kernelspec": {
   "display_name": "Python 2",
   "language": "python",
   "name": "python2"
  },
  "language_info": {
   "codemirror_mode": {
    "name": "ipython",
    "version": 2
   },
   "file_extension": ".py",
   "mimetype": "text/x-python",
   "name": "python",
   "nbconvert_exporter": "python",
   "pygments_lexer": "ipython2",
   "version": "2.7.11"
  }
 },
 "nbformat": 4,
 "nbformat_minor": 0
}
