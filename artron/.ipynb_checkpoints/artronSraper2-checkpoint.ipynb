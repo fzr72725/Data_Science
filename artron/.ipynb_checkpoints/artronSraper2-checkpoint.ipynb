{
 "cells": [
  {
   "cell_type": "code",
   "execution_count": 8,
   "metadata": {
    "collapsed": false
   },
   "outputs": [],
   "source": [
    "from BeautifulSoup import BeautifulSoup\n",
    "import urllib,string,csv,sys,os\n",
    "import pandas as pd\n"
   ]
  },
  {
   "cell_type": "code",
   "execution_count": 9,
   "metadata": {
    "collapsed": true
   },
   "outputs": [],
   "source": [
    "# Set total page count for the scraping\n",
    "page_count = 2\n",
    "fx_url_s = 'http://en.artron.net/auction/paimai-list.php?page='\n",
    "fx_url_e = '&zcid=PZ2012759&o=0'"
   ]
  },
  {
   "cell_type": "code",
   "execution_count": 19,
   "metadata": {
    "collapsed": false
   },
   "outputs": [],
   "source": [
    "# test unit\n",
    "#datas = urllib.urlopen('http://en.artron.net/auction/paimai-list.php?page=1&zcid=PZ2012759&o=0').read()\n",
    "#s = BeautifulSoup(datas)\n",
    "#tables = s.findAll(\"table\")"
   ]
  },
  {
   "cell_type": "code",
   "execution_count": 95,
   "metadata": {
    "collapsed": false
   },
   "outputs": [],
   "source": [
    "# store tables into panda dataframe\n",
    "def get_tables(url_s,url_e,total_page):\n",
    "    lot_id = []\n",
    "    item_name = []\n",
    "    est_price = []\n",
    "    price = []\n",
    "    \n",
    "    # Read in page by page\n",
    "    for p in range(1,total_page+1):\n",
    "        url = url_s+str(p)+url_e\n",
    "        data = urllib.urlopen(url).read()\n",
    "        soup = BeautifulSoup(data)\n",
    "        \n",
    "        try:\n",
    "            tables = soup.findAll(\"table\")\n",
    "        except AttributeError as e:\n",
    "            raise ValueError(\"No valid table found\")\n",
    "        \n",
    "        depth3 = []\n",
    "        auction_house = tables[1].findAll('tr')[0].findAll('td')[0].contents[1].string.strip()\n",
    "        auction = tables[1].findAll('tr')[0].findAll('td')[0].contents[4]+\\\n",
    "        tables[1].findAll('tr')[0].findAll('td')[0].contents[6]\n",
    "        auction = auction.replace('\\r\\n    ','')\n",
    "        auction = auction.replace('    ','-')\n",
    "        for t in tables:\n",
    "            if len(t.findParents(\"table\")) == 3:\n",
    "                depth3.append(t)\n",
    "                \n",
    "        # Get all rows from the page's table\n",
    "        if(len(depth3)>0):\n",
    "            try:\n",
    "                rows = depth3[0].findAll('tr')\n",
    "            except AttributeError as e:\n",
    "                raise ValueError(\"No valid table rows found\")\n",
    "                \n",
    "        # Get all the columns from the table's row\n",
    "        # [1:] removes the table header \"Lot\",\"Name\", etc\n",
    "        for r in rows[1:]:\n",
    "            col = r.findAll('td')\n",
    "            #print col[0].string.strip()\n",
    "            column_1 = col[0].string.strip()\n",
    "            lot_id.append(column_1)\n",
    "            \n",
    "            col_2 = col[1].find('a')\n",
    "            #print str(col2)\n",
    "            if(str(col_2)=='None'):\n",
    "                column_2 = col[1].string.strip()\n",
    "            else:\n",
    "                column_2= col_2.string.replace(\"&nbsp;\",\"\").strip()\n",
    "            item_name.append(column_2)\n",
    "            \n",
    "            column_3 = col[2].string.replace(\"&nbsp;\",\" \").strip()\n",
    "            est_price.append(column_3)\n",
    "            \n",
    "            column_4 = col[3].string.replace(\"&nbsp;\",\" \").strip()\n",
    "            price.append(column_4)\n",
    "        \n",
    "        columns = {'auction_house':auction_house,'auction':auction,'lot_id':lot_id,\\\n",
    "                   'item_name':item_name, 'est_price':est_price, 'price':price}\n",
    "\n",
    "\n",
    "        df = pd.DataFrame(columns)\n",
    "    print df.shape\n",
    "    return df\n"
   ]
  },
  {
   "cell_type": "code",
   "execution_count": 96,
   "metadata": {
    "collapsed": false
   },
   "outputs": [
    {
     "name": "stdout",
     "output_type": "stream",
     "text": [
      "(40, 6)\n"
     ]
    }
   ],
   "source": [
    "df = get_tables(fx_url_s,fx_url_e,page_count)"
   ]
  },
  {
   "cell_type": "code",
   "execution_count": 97,
   "metadata": {
    "collapsed": false
   },
   "outputs": [
    {
     "data": {
      "text/plain": [
       "u'2012 Autumn Auctions-Chinese Ceramics, Works of Art and Textiles-'"
      ]
     },
     "execution_count": 97,
     "metadata": {},
     "output_type": "execute_result"
    }
   ],
   "source": [
    "df.loc[0][0]"
   ]
  },
  {
   "cell_type": "code",
   "execution_count": null,
   "metadata": {
    "collapsed": true
   },
   "outputs": [],
   "source": []
  }
 ],
 "metadata": {
  "kernelspec": {
   "display_name": "Python 2",
   "language": "python",
   "name": "python2"
  },
  "language_info": {
   "codemirror_mode": {
    "name": "ipython",
    "version": 2
   },
   "file_extension": ".py",
   "mimetype": "text/x-python",
   "name": "python",
   "nbconvert_exporter": "python",
   "pygments_lexer": "ipython2",
   "version": "2.7.10"
  }
 },
 "nbformat": 4,
 "nbformat_minor": 0
}
