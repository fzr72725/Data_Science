{
 "cells": [
  {
   "cell_type": "code",
   "execution_count": 2,
   "metadata": {
    "collapsed": false
   },
   "outputs": [],
   "source": [
    "from BeautifulSoup import BeautifulSoup\n",
    "import urllib,string,csv,sys,os\n"
   ]
  },
  {
   "cell_type": "code",
   "execution_count": 3,
   "metadata": {
    "collapsed": true
   },
   "outputs": [],
   "source": [
    "page_count = 2\n",
    "page = ''\n",
    "fx_url_s = 'http://en.artron.net/auction/paimai-list.php?page='\n",
    "fx_url_e = '&zcid=PZ2012759&o=0'"
   ]
  },
  {
   "cell_type": "code",
   "execution_count": 4,
   "metadata": {
    "collapsed": true
   },
   "outputs": [],
   "source": [
    "def get_tables(url_s,url_e,total_page):\n",
    "    for p in range(1,total_page+1):\n",
    "        url = url_s+str(p)+url_e\n",
    "        data = urllib.urlopen(url).read()\n",
    "        soup = BeautifulSoup(data)\n",
    "        \n",
    "        tables = soup.findAll(\"table\")\n",
    "        depth3 = []\n",
    "        for t in tables:\n",
    "            if len(t.findParents(\"table\")) == 3:\n",
    "                depth3.append(t)\n",
    "        print depth3\n",
    "        #file = open(\"artron_data.csv\",\"a\")\n",
    "        #file.write(data)\n",
    "    #file.close()"
   ]
  },
  {
   "cell_type": "code",
   "execution_count": null,
   "metadata": {
    "collapsed": true
   },
   "outputs": [],
   "source": [
    "get_tables(fx_url_s,fx_url_e,page_count)"
   ]
  }
 ],
 "metadata": {
  "kernelspec": {
   "display_name": "Python 2",
   "language": "python",
   "name": "python2"
  },
  "language_info": {
   "codemirror_mode": {
    "name": "ipython",
    "version": 2
   },
   "file_extension": ".py",
   "mimetype": "text/x-python",
   "name": "python",
   "nbconvert_exporter": "python",
   "pygments_lexer": "ipython2",
   "version": "2.7.10"
  }
 },
 "nbformat": 4,
 "nbformat_minor": 0
}
